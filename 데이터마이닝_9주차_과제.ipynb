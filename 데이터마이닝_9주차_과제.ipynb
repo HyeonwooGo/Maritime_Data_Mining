{
  "nbformat": 4,
  "nbformat_minor": 0,
  "metadata": {
    "colab": {
      "provenance": []
    },
    "kernelspec": {
      "name": "python3",
      "display_name": "Python 3"
    },
    "language_info": {
      "name": "python"
    }
  },
  "cells": [
    {
      "cell_type": "code",
      "execution_count": 4,
      "metadata": {
        "colab": {
          "base_uri": "https://localhost:8080/"
        },
        "id": "eovV62fhdH74",
        "outputId": "b79ca727-5ef5-4b72-a086-1f6ee41fff5c"
      },
      "outputs": [
        {
          "output_type": "stream",
          "name": "stdout",
          "text": [
            "✅ gabia_main_articles.xlsx 저장 완료\n"
          ]
        }
      ],
      "source": [
        "import requests\n",
        "from bs4 import BeautifulSoup\n",
        "import pandas as pd\n",
        "\n",
        "url = \"https://library.gabia.com/\"\n",
        "headers = {\"User-Agent\": \"Mozilla/5.0\"}\n",
        "response = requests.get(url, headers=headers)\n",
        "soup = BeautifulSoup(response.text, \"html.parser\")\n",
        "\n",
        "posts = []\n",
        "\n",
        "# 게시물 목록 추출\n",
        "for item in soup.select(\"div.post-item\"):\n",
        "    title_tag = item.select_one(\"h4.title\")\n",
        "    link_tag = item.select_one(\"a\")\n",
        "    date_tag = item.select_one(\"span.date\")\n",
        "    excerpt_tag = item.select_one(\"p.excerpt\")\n",
        "\n",
        "    if not (title_tag and link_tag):\n",
        "        continue\n",
        "\n",
        "    title = title_tag.get_text(strip=True)\n",
        "    link = \"https://library.gabia.com\" + link_tag['href']\n",
        "    date = date_tag.get_text(strip=True) if date_tag else \"날짜 없음\"\n",
        "    excerpt = excerpt_tag.get_text(strip=True) if excerpt_tag else \"\"\n",
        "\n",
        "    posts.append({\n",
        "        \"제목\": title,\n",
        "        \"링크\": link,\n",
        "        \"작성일\": date,\n",
        "        \"요약\": excerpt\n",
        "    })\n",
        "\n",
        "# DataFrame 생성\n",
        "df = pd.DataFrame(posts)\n",
        "\n",
        "# 엑셀로 저장\n",
        "df.to_excel(\"gabia_main_articles.xlsx\", index=False)\n",
        "print(\"✅ gabia_main_articles.xlsx 저장 완료\")\n"
      ]
    }
  ]
}