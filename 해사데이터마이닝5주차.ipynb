{
  "nbformat": 4,
  "nbformat_minor": 0,
  "metadata": {
    "colab": {
      "provenance": []
    },
    "kernelspec": {
      "name": "python3",
      "display_name": "Python 3"
    },
    "language_info": {
      "name": "python"
    }
  },
  "cells": [
    {
      "cell_type": "markdown",
      "source": [
        "#(첫 번째 과제) pandas 활용하기"
      ],
      "metadata": {
        "id": "-HedKqnORrc_"
      }
    },
    {
      "cell_type": "code",
      "execution_count": 2,
      "metadata": {
        "colab": {
          "base_uri": "https://localhost:8080/"
        },
        "id": "2RSTUMQ1Q_r6",
        "outputId": "bec929de-0720-4304-bc0d-0ec3530be547"
      },
      "outputs": [
        {
          "output_type": "stream",
          "name": "stdout",
          "text": [
            "         2007   2008   2009   2010   2011  Average\n",
            "China    7.71   7.95  11.96  15.84  16.33   11.958\n",
            "EU      19.02  17.71  15.00  16.70  17.48   17.182\n",
            "US      10.47   8.45   5.58   7.60   8.40    8.100\n",
            "Japan   10.87  10.83   7.55   9.09   7.88    9.244\n",
            "Korea    4.04   3.78   3.45   4.20   4.62    4.018\n",
            "Mexico   2.01   2.05   1.50   2.25   2.54    2.070\n",
            "Total   54.12  50.77  45.04  55.68  57.25   52.572\n"
          ]
        }
      ],
      "source": [
        "import pandas as pd\n",
        "import numpy as np\n",
        "\n",
        "path = 'https://github.com/dongupak/DataML/raw/main/csv/'\n",
        "file = path + 'vehicle_prod.csv'\n",
        "df = pd.read_csv(file, index_col=0)\n",
        "\n",
        "sums = df.select_dtypes(np.number).sum().rename('Total')\n",
        "df_total = pd.concat([df, pd.DataFrame([sums])])\n",
        "\n",
        "df_total['Average'] = df_total.select_dtypes(np.number).mean(axis=1)\n",
        "\n",
        "print(df_total)"
      ]
    },
    {
      "cell_type": "markdown",
      "source": [
        "#(두 번째 과제) 시계열데이터 활용하기"
      ],
      "metadata": {
        "id": "zmJYccTxSJ83"
      }
    },
    {
      "cell_type": "code",
      "source": [
        "import pandas as pd\n",
        "import numpy as np\n",
        "import matplotlib.pyplot as plt\n",
        "\n",
        "weather_file = 'https://raw.githubusercontent.com/dongupak/DataML/main/csv/weather.csv'\n",
        "weather = pd.read_csv(weather_file, encoding='CP949')\n",
        "\n",
        "weather['일시'] = pd.to_datetime(weather['일시'], errors='coerce')\n",
        "\n",
        "weather['month'] = weather['일시'].dt.month\n",
        "\n",
        "monthly_wind = [0 for _ in range(12)]\n",
        "\n",
        "for i in range(12):\n",
        "    monthly_data = weather[weather['month'] == (i + 1)]\n",
        "    monthly_wind[i] = monthly_data['평균풍속'].mean()\n",
        "\n",
        "months = np.arange(1, 13)\n",
        "plt.bar(months, monthly_wind, color='skyblue')\n",
        "plt.xlabel('Month')\n",
        "plt.ylabel('Average Wind Speed (m/s)')\n",
        "plt.title('월별 평균 풍속')\n",
        "plt.grid(True)\n",
        "plt.show()"
      ],
      "metadata": {
        "colab": {
          "base_uri": "https://localhost:8080/",
          "height": 690
        },
        "id": "j5VFA6YuSNiF",
        "outputId": "e4b3d2ec-4d82-4609-e7c6-700ee6ea868a"
      },
      "execution_count": 7,
      "outputs": [
        {
          "output_type": "stream",
          "name": "stderr",
          "text": [
            "/usr/local/lib/python3.11/dist-packages/IPython/core/pylabtools.py:151: UserWarning: Glyph 50900 (\\N{HANGUL SYLLABLE WEOL}) missing from font(s) DejaVu Sans.\n",
            "  fig.canvas.print_figure(bytes_io, **kw)\n",
            "/usr/local/lib/python3.11/dist-packages/IPython/core/pylabtools.py:151: UserWarning: Glyph 48324 (\\N{HANGUL SYLLABLE BYEOL}) missing from font(s) DejaVu Sans.\n",
            "  fig.canvas.print_figure(bytes_io, **kw)\n",
            "/usr/local/lib/python3.11/dist-packages/IPython/core/pylabtools.py:151: UserWarning: Glyph 54217 (\\N{HANGUL SYLLABLE PYEONG}) missing from font(s) DejaVu Sans.\n",
            "  fig.canvas.print_figure(bytes_io, **kw)\n",
            "/usr/local/lib/python3.11/dist-packages/IPython/core/pylabtools.py:151: UserWarning: Glyph 44512 (\\N{HANGUL SYLLABLE GYUN}) missing from font(s) DejaVu Sans.\n",
            "  fig.canvas.print_figure(bytes_io, **kw)\n",
            "/usr/local/lib/python3.11/dist-packages/IPython/core/pylabtools.py:151: UserWarning: Glyph 54413 (\\N{HANGUL SYLLABLE PUNG}) missing from font(s) DejaVu Sans.\n",
            "  fig.canvas.print_figure(bytes_io, **kw)\n",
            "/usr/local/lib/python3.11/dist-packages/IPython/core/pylabtools.py:151: UserWarning: Glyph 49549 (\\N{HANGUL SYLLABLE SOG}) missing from font(s) DejaVu Sans.\n",
            "  fig.canvas.print_figure(bytes_io, **kw)\n"
          ]
        },
        {
          "output_type": "display_data",
          "data": {
            "text/plain": [
              "<Figure size 640x480 with 1 Axes>"
            ],
            "image/png": "[encoded data removed]"
          },
          "metadata": {}
        }
      ]
    }
  ]
}