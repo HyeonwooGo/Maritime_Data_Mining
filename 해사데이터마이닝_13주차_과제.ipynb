{
 "cells": [
  {
   "cell_type": "code",
   "execution_count": 5,
   "id": "08295822",
   "metadata": {},
   "outputs": [],
   "source": [
    "\n",
    "import pandas as pd\n",
    "import folium\n",
    "from folium.plugins import HeatMap\n",
    "\n",
    "# 파일 경로 설정 (본인의 환경에 맞게 수정 필요)\n",
    "logs_path = \"/Users/woo/Downloads/archive/seoul-metro-2021.logs.csv\"\n",
    "stations_path = \"/Users/woo/Downloads/archive/seoul-metro-station-info.csv\"\n",
    "\n",
    "logs = pd.read_csv(logs_path)\n",
    "stations = pd.read_csv(stations_path)\n",
    "\n",
    "stations.rename(columns={'station.code': 'station_code'}, inplace=True)\n",
    "\n",
    "logs['timestamp'] = pd.to_datetime(logs['timestamp'], errors='coerce')\n",
    "logs['hour'] = logs['timestamp'].dt.hour\n",
    "\n",
    "morning = logs[logs['hour'] < 9]\n",
    "evening = logs[logs['hour'] >= 17]\n",
    "\n",
    "morning_grouped = morning.groupby('station_code')[['people_in', 'people_out']].sum()\n",
    "evening_grouped = evening.groupby('station_code')[['people_in', 'people_out']].sum()\n",
    "\n",
    "stations_info = stations[['station_code', 'geo.latitude', 'geo.longitude']].drop_duplicates()\n",
    "stations_info.set_index('station_code', inplace=True)\n",
    "\n",
    "merged_morning = morning_grouped.join(stations_info).dropna()\n",
    "merged_evening = evening_grouped.join(stations_info).dropna()\n",
    "\n",
    "def generate_heatmap(dataframe, value_column, output_file):\n",
    "    map_center = [37.5665, 126.9780]  # 서울 중심\n",
    "    m = folium.Map(location=map_center, zoom_start=11)\n",
    "    heat_data = [\n",
    "        [row['geo.latitude'], row['geo.longitude'], row[value_column]]\n",
    "        for idx, row in dataframe.iterrows()\n",
    "    ]\n",
    "    HeatMap(heat_data).add_to(m)\n",
    "    m.save(output_file)\n",
    "\n",
    "generate_heatmap(merged_morning, 'people_in', '출근_승차_히트맵.html')\n",
    "generate_heatmap(merged_evening, 'people_out', '퇴근_하차_히트맵.html')\n"
   ]
  }
 ],
 "metadata": {
  "kernelspec": {
   "display_name": "base",
   "language": "python",
   "name": "python3"
  },
  "language_info": {
   "codemirror_mode": {
    "name": "ipython",
    "version": 3
   },
   "file_extension": ".py",
   "mimetype": "text/x-python",
   "name": "python",
   "nbconvert_exporter": "python",
   "pygments_lexer": "ipython3",
   "version": "3.12.7"
  }
 },
 "nbformat": 4,
 "nbformat_minor": 5
}
