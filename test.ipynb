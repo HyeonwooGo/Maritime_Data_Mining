import numpy as np
import matplotlib.pyplot as plt

# 하트 곡선 파라메트릭 방정식
t = np.linspace(0, 2 * np.pi, 1000)
x = 16 * np.sin(t)**3
y = 13 * np.cos(t) - 5 * np.cos(2*t) - 2 * np.cos(3*t) - np.cos(4*t)

# 그래프 그리기
plt.plot(x, y)
plt.title('❤️ Heart Curve')
plt.axis('equal')  # 축 비율 동일하게
plt.grid(True)
plt.show()
